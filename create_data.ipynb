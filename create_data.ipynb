{
 "cells": [
  {
   "cell_type": "markdown",
   "metadata": {},
   "source": [
    "# Create .txt file from data in Pandas dataframes "
   ]
  },
  {
   "cell_type": "code",
   "execution_count": 41,
   "metadata": {},
   "outputs": [],
   "source": [
    "import pandas as pd\n",
    "import os"
   ]
  },
  {
   "cell_type": "code",
   "execution_count": 42,
   "metadata": {},
   "outputs": [
    {
     "name": "stdout",
     "output_type": "stream",
     "text": [
      "number of tweets: 12473 \n",
      "\n"
     ]
    }
   ],
   "source": [
    "data_folder = '/Volumes/TOSHIBA EXT/gpt2_vegan/Data/'\n",
    "\n",
    "# Load all csv files in data folder\n",
    "dfs = []\n",
    "for filename in os.listdir(data_folder):\n",
    "    if filename.endswith('.csv'):\n",
    "        df = pd.read_csv(data_folder + filename)\n",
    "        dfs.append(df)\n",
    "\n",
    "# Concatenate to one dataframe\n",
    "all_tweets = pd.concat(dfs, sort=True)\n",
    "print('number of tweets: {} \\n'.format(len(all_tweets)))"
   ]
  },
  {
   "cell_type": "code",
   "execution_count": 43,
   "metadata": {},
   "outputs": [],
   "source": [
    "# Remove duplicate rows\n",
    "unique_tweets = all_tweets.drop_duplicates(subset=['username','text'], keep='first')"
   ]
  },
  {
   "cell_type": "code",
   "execution_count": 31,
   "metadata": {},
   "outputs": [],
   "source": [
    "# Make a list of tweets\n",
    "tweet_texts = unique_tweets['text'].dropna().tolist()\n",
    "\n",
    "# Join list of tweets into one long string\n",
    "tweet_one_string = '. \\n'.join(tweet_texts)"
   ]
  },
  {
   "cell_type": "code",
   "execution_count": 32,
   "metadata": {},
   "outputs": [],
   "source": [
    "def clean_text(text):\n",
    "    # Translate ampersand\n",
    "    text = text.replace('&amp;', '&')\n",
    "    return text"
   ]
  },
  {
   "cell_type": "code",
   "execution_count": 33,
   "metadata": {},
   "outputs": [],
   "source": [
    "vegan_texts = clean_text(tweet_one_string)"
   ]
  },
  {
   "cell_type": "code",
   "execution_count": 34,
   "metadata": {},
   "outputs": [
    {
     "data": {
      "text/plain": [
       "2531255"
      ]
     },
     "execution_count": 34,
     "metadata": {},
     "output_type": "execute_result"
    }
   ],
   "source": [
    "len(vegan_texts)"
   ]
  },
  {
   "cell_type": "code",
   "execution_count": 35,
   "metadata": {},
   "outputs": [],
   "source": [
    "with open(data_folder+'vegan_tweets.txt','w') as f:\n",
    "    f.write(vegan_texts)"
   ]
  },
  {
   "cell_type": "code",
   "execution_count": null,
   "metadata": {},
   "outputs": [],
   "source": []
  }
 ],
 "metadata": {
  "kernelspec": {
   "display_name": "Python 3",
   "language": "python",
   "name": "python3"
  },
  "language_info": {
   "codemirror_mode": {
    "name": "ipython",
    "version": 3
   },
   "file_extension": ".py",
   "mimetype": "text/x-python",
   "name": "python",
   "nbconvert_exporter": "python",
   "pygments_lexer": "ipython3",
   "version": "3.7.2"
  }
 },
 "nbformat": 4,
 "nbformat_minor": 2
}
